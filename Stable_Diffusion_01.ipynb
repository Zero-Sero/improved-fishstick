{
  "cells": [
    {
      "cell_type": "markdown",
      "metadata": {
        "id": "view-in-github",
        "colab_type": "text"
      },
      "source": [
        "<a href=\"https://colab.research.google.com/github/Zero-Sero/improved-fishstick/blob/main/Stable_Diffusion_01.ipynb\" target=\"_parent\"><img src=\"https://colab.research.google.com/assets/colab-badge.svg\" alt=\"Open In Colab\"/></a>"
      ]
    },
    {
      "cell_type": "markdown",
      "metadata": {
        "id": "4X6nqvYZ7xBs"
      },
      "source": [
        "# **StableDiffusion GoogleColab version**\n",
        "\n",
        "# ![pp.png](data:image/png;base64,iVBORw0KGgoAAAANSUhEUgAAABgAAAAYCAMAAADXqc3KAAACYVBMVEVHcEwXRoMTPn0VQoAWRIEPNXIQOHYPNnMQOXf+/v4SPXwTQH4OM3ARO3oXR4QWQ38OMGsXRYIOMm4RO3kPNHANMGoUPnkUP3oMLWcNL2kTPHcVPngXRYEVPngVQHoVP3kMLGQOM28LKmEUPXYMLGUNLmgOM28SPXoSPHoPNHAPNXAOMW0OMWwPNXESO3YXRoQKJ1oKJVYQMmUOMW0RNmwGGTsKJlgJI1ISN20GGTwNKFARNGcKJFQJJFQRNWkPNHEWRIAJH0EUPHUGGDkLJEgMJk0SN20HG0AFFjUTOG4OMm0LI0gUP3sRN3AQN3QMJUoMLGMLKFsJJFUGFzcWQn0PNG4MLGQUQH0QOXYKJVYNL2gLKl8QM2gOL2QGGTkLKV8UPHQVQ4ALKl8MJU0PMWcHGz0RN3EPNW8KIUYNL2np7PKxvtIWPXlAYZRNbJoWP3y8yNpHa5tde6bs8PRMbp2Em7yVqcXh5u6brcjc4uzo7fLM1eNyjLIdR4MtVYwyWI65xtnn7PL///8XRYIROngQOHUPNXEYR4QSPHsUQX8WRIEQNXIQNnMUQH4ROXcPNHEPM3AQOXYSPXwXRoMWQn0QN3QRO3oVQoATP30OM28VQX4PN3QYRoMXRYESPHgWQ38VQ4AWRIAOMm0OMW0OMGsOMm4RO3kUQH0UP3sTQH4TPn0ROXYcQnzK0+AQOHbT2+aWp8J4kLPy9PcVP33x9Pe7x9kTPXwcR4OxwNVAZZdLa5m1wtYRO3iAlrf4+ftBYpQoTob4+vutvdLq7vPd4+xkgKqxv9Ta4Or+/v79/v42WpD34U+dAAAAgnRSTlMA/v7+/v7+/v7+/v7+/v7+/v7+/v7+/v7z8/Pz/ub8++b+urr7/Pv+/vvm/Ob+/P52XFz+diB2XHYgIFxcXFz+/iGoICEgeCAheP4g/qj+Iah4eCH+uqj+/ni6qFx4Iaio/nggeCGouiG6/v7+/v7+/v7+/v7+/v7+/v7+/v7+/v7+qhvhNgAAAcFJREFUKM9jYIAAFzdlWXl5WWVPfwZk4JogF7JQpllQxmGKnJMVQtxaesrcOe1gMGfuFGk7mLiJOH+zPl87EPLxtesLzhe3gIgbifELTmZknAyEIJKxmV8sBiTuLTWrqxkFdM2SSgZK+PosYGHpAiEgAWEkrkhjYHDUC5/OzAxEO4oPVzVWHioEsZfrZTDEzuvtBIHt+5qaTjQ1NR3cCeT0zkthCFXn7uUGopImzmO1dQ1NnGVA7kr1dAYtDaYZTEBU2sR5lImppomzAshdpaHFoCnMNYkLiAqaOE9x1Vc3cRaBuMKaDGotHSCweUtT05HjJ5uadm8DcVvUGHQ4hKfx8k7L5WwCQs7yvfm8QO4yDh2GqKktILCxqWnrrv0H9rRAwNRMhkDdiD4Ojr5szqY8IM3RB0YTdZMY4rT91rGxrc7i3JQzkY2NbSIYTdVOZWAImDC7tXXN2vUbWuFg9oQwYFiZSvazs/eAEJCAMOwl3UHBayMgwtrNCkRAAswQETCERIiZ6Mz+NjjonylqAItCc4nFijwTePp5eHgmKBpL2CIi3TleVWCR0FIhIa8lqtGWKOnEI0hJQUVFQSkyGCoAAExQpE2pj7kUAAAAAElFTkSuQmCC) **[Buy me a coffee](https://www.paypal.me/maratsk)**\n",
        "\n",
        "\n",
        "![youtube.png](data:image/png;base64,iVBORw0KGgoAAAANSUhEUgAAABAAAAAQCAMAAAAoLQ9TAAAAJ1BMVEVHcEz/AAD/AAD/AAD/AAD/AAD/AAD/AAD/AAD/////mJj/wcH/jY3aUCqcAAAACHRSTlMA8czbELSvDrGIfzkAAABCSURBVBiVY2AgA7CwMTMycgABIyMzGztQgIkDCTABBThQAEyAixtNgIeTkwu/AIYWZEMxrGVhZWaE8BiZWVnI8RoAJWEEDt2WmW4AAAAASUVORK5CYII=) **[YouTube](https://www.youtube.com/watch?v=dQw4w9WgXcQ)** | ![youtube.png](data:image/png;base64,iVBORw0KGgoAAAANSUhEUgAAABAAAAAQCAMAAAAoLQ9TAAAA0lBMVEVHcEwASXEAVIIASXEAW40AW40AW40AW40AW40AW40ASXEARmwASXEAPV4ATnkAQGQAUoAAUn8AWowAQmYANFEANVIAQWUASXEAUHwAQmcAWowASXEAUX0AW40ASXGPscSPr8B/pLh/rcYMUXdJfZkDS3KlwtIqdqBWhqB9q8WZtsY/dpQzbY1Xh6GUs8MAWowAUHwAVoUqdp8AVIJ9pLkqZ4h9orelvsyJq70AWosAWYoATniNrb+kwM8ATHZ+oreBpbnF1t8DS3PI1+BbiaNbiqT25ex8AAAAHXRSTlMAmzOe3PvEmp3+3Ar+CjM0M/v7CgoKCsUzNNz7+yV3I4EAAACzSURBVBjTTY/XEoJADEUjbUEBezdrASxg7737/79kdmEcz9PeM5NsLgCRY5qua0yBmKJpocQyMyJXDPxhCGPiHyZAzcJBvy3pL9FSgCGOhlwyXC+QgYbYO/si+/suXzVAJ+Hdyfg3r8t5Kxbj12TyGAvRlCPR9Pl5B9OIRFouDQOxIwi3nKfApW8vHcluw+26POx45QkqXerQ6YdTnKtlUcahcrM5RVstJX1dphXy6VRWvL8EBRlO0i9n9wAAAABJRU5ErkJggg==) **[sdg.marat@gmail.com]** |\n",
        "\n",
        "\n",
        "_You don't need additional Google Drive storage because uploaded models are not stored on your Google Drive. After the session ends, all data will be deleted. You can either download ControlNet models on your own or let me know if you want me to make it for you._"
      ]
    },
    {
      "cell_type": "code",
      "execution_count": null,
      "metadata": {
        "cellView": "form",
        "id": "ciseg_wdLz3S"
      },
      "outputs": [],
      "source": [
        "#@markdown ## Requirements\n",
        "from IPython.display import clear_output\n",
        "\n",
        "print('\u001b[1;32mInstalling requirements...')\n",
        "#%pip install --quiet blendmodes accelerate basicsr fonts font-roboto gfpgan gradio invisible-watermark numpy omegaconf opencv-contrib-python requests piexif Pillow pytorch-lightning==1.7.7 realesrgan scikit-image==0.19 timm==0.4.12 transformers==4.25.1 torch einops jsonmerge clean-fid resize-right torchdiffeq kornia lark inflection GitPython torchsde safetensors psutil rich\n",
        "#%cd /content/\n",
        "!git clone -q --branch main https://github.com/AlexSgt/lite_colab\n",
        "%cd /content/lite_colab\n",
        "%pip install -r requirements.txt --quiet\n",
        "!sed -i \"s@os.path.splitext(checkpoint_file)@os.path.splitext(checkpoint_file); map_location='cuda'@\" /content/lite_colab/modules/sd_models.py\n",
        "!sed -i 's@ui.create_ui().*@ui.create_ui();shared.demo.queue(concurrency_count=999999,status_update_rate=0.1)@' /content/lite_colab/startfk.py\n",
        "!sed -i \"s@map_location='cpu'@map_location='cuda'@\" /content/lite_colab/modules/extras.py\n",
        "!cp /content/lite_colab/assets/blocks.py /usr/local/lib/python3.10/dist-packages/gradio/blocks.py\n",
        "\n",
        "clear_output()\n",
        "print('\u001b[1;32mDone!')\n",
        "#!python launch.py --share --theme dark --api --ckpt-dir /content/models/ --disable-safe-unpickle --enable-insecure-extension-access --opt-sdp-attention --disable-console-progressbars --no-download-sd-model"
      ]
    },
    {
      "cell_type": "markdown",
      "metadata": {
        "id": "NG0WGJWB1vQs"
      },
      "source": [
        "<form action=\"https://www.paypal.com/cgi-bin/webscr\" method=\"post\" target=\"_top\">\n",
        "  <input type=\"hidden\" name=\"cmd\" value=\"_s-xclick\" />\n",
        "  <input type=\"hidden\" name=\"hosted_button_id\" value=\"MDH8APKUVYW4L\" />\n",
        "  <table>\n",
        "    <tr>\n",
        "      <td>\n",
        "        <input type=\"hidden\" name=\"on0\" value=\"Thank you for donation!:)\"/>\n",
        "        Thank you for donation!:)\n",
        "      </td>\n",
        "    </tr>\n",
        "    <tr>\n",
        "      <td>\n",
        "        <input type=\"text\" name=\"os0\" maxLength=\"200\" />\n",
        "      </td>\n",
        "    </tr>\n",
        "  </table>\n",
        "  <input type=\"hidden\" name=\"currency_code\" value=\"USD\" />\n",
        "  <input type=\"image\" src=\"https://www.paypalobjects.com/en_US/i/btn/btn_paynowCC_LG.gif\" border=\"0\" name=\"submit\" title=\"PayPal - The safer, easier way to pay online!\" alt=\"Buy Now\" />\n",
        "</form>"
      ]
    },
    {
      "cell_type": "code",
      "source": [
        "#@title Model Download { form-width: \"35%\" }\n",
        "model_link = \"https://civitai.com/api/download/models/50245\" #@param [\"https://civitai.com/api/download/models/50127\", \"https://civitai.com/api/download/models/11811\", \"https://civitai.com/api/download/models/50245\", \"\", \"\", \"\", \"\"] {allow-input: true}\n",
        "!wget -P /content/lite_colab/models/Stable-diffusion/ {model_link} --content-disposition"
      ],
      "metadata": {
        "cellView": "form",
        "id": "u2UTHlchiAzx"
      },
      "execution_count": null,
      "outputs": []
    },
    {
      "cell_type": "code",
      "source": [
        "#@title ESRGAN Download { form-width: \"35%\" }\n",
        "ESRGAN_link = \"https://huggingface.co/lokCX/4x-Ultrasharp/resolve/main/4x-UltraSharp.pth\" #@param [\"https://huggingface.co/lokCX/4x-Ultrasharp/resolve/main/4x-UltraSharp.pth\", \"\", \"\", \"\", \"\", \"\", \"\"] {allow-input: true}\n",
        "!wget -P /content/lite_colab/models/ESRGAN/ {ESRGAN_link} --content-disposition"
      ],
      "metadata": {
        "cellView": "form",
        "id": "wRnMO8f3iWe-"
      },
      "execution_count": null,
      "outputs": []
    },
    {
      "cell_type": "code",
      "source": [
        "#@title VAE Download Code { form-width: \"35%\" }\n",
        "vae_link = \"https://huggingface.co/stabilityai/sd-vae-ft-mse-original/resolve/main/vae-ft-mse-840000-ema-pruned.safetensors\" #@param [\"https://huggingface.co/stabilityai/sd-vae-ft-mse-original/resolve/main/vae-ft-mse-840000-ema-pruned.safetensors\", \"https://huggingface.co/WarriorMama777/OrangeMixs/resolve/main/VAEs/orangemix.vae.pt\", \"https://huggingface.co/hakurei/waifu-diffusion-v1-4/resolve/main/vae/kl-f8-anime2.ckpt\", \"https://huggingface.co/NoCrypt/blessed_vae/resolve/main/blessed2.vae.pt\", \"\", \"\", \"\", \"\"] {allow-input: true}\n",
        "!wget -P /content/lite_colab/models/VAE {vae_link} --content-disposition"
      ],
      "metadata": {
        "cellView": "form",
        "id": "IUpl9KsvidJ7"
      },
      "execution_count": null,
      "outputs": []
    },
    {
      "cell_type": "code",
      "source": [
        "#@title LoRA Download Code(Optional) { form-width: \"30%\" }\n",
        "lora_link = \"\" #@param [\"\", \"\", \"\", \"\", \"\", \"\", \"\"] {allow-input: true}\n",
        "dmodel = \"httm/api/download/models/11523\"\n",
        "!wget -P /content/stable-diffusion-webui/models/Lora/ {lora_link} --content-disposition"
      ],
      "metadata": {
        "cellView": "form",
        "id": "v_YVjkIQjyQ7"
      },
      "execution_count": null,
      "outputs": []
    },
    {
      "cell_type": "code",
      "execution_count": null,
      "metadata": {
        "cellView": "form",
        "colab": {
          "background_save": true
        },
        "id": "HAFOrFrYyZaY"
      },
      "outputs": [],
      "source": [
        "#@markdown # **STEP 3**\n",
        "#@markdown ## Start StableDiffusion\n",
        "\n",
        "!python launch.py --share --api --disable-safe-unpickle --enable-insecure-extension-access --opt-sdp-attention --disable-console-progressbars --no-download-sd-model"
      ]
    },
    {
      "cell_type": "markdown",
      "metadata": {
        "id": "2g9c90Rs12kb"
      },
      "source": [
        "<form action=\"https://www.paypal.com/cgi-bin/webscr\" method=\"post\" target=\"_top\">\n",
        "  <input type=\"hidden\" name=\"cmd\" value=\"_s-xclick\" />\n",
        "  <input type=\"hidden\" name=\"hosted_button_id\" value=\"MDH8APKUVYW4L\" />\n",
        "  <table>\n",
        "    <tr>\n",
        "      <td>\n",
        "        <input type=\"hidden\" name=\"on0\" value=\"Thank you for donation!:)\"/>\n",
        "        Thank you for donation!:)\n",
        "      </td>\n",
        "    </tr>\n",
        "    <tr>\n",
        "      <td>\n",
        "        <input type=\"text\" name=\"os0\" maxLength=\"200\" />\n",
        "      </td>\n",
        "    </tr>\n",
        "  </table>\n",
        "  <input type=\"hidden\" name=\"currency_code\" value=\"USD\" />\n",
        "  <input type=\"image\" src=\"https://www.paypalobjects.com/en_US/i/btn/btn_paynowCC_LG.gif\" border=\"0\" name=\"submit\" title=\"PayPal - The safer, easier way to pay online!\" alt=\"Buy Now\" />\n",
        "</form>"
      ]
    }
  ],
  "metadata": {
    "accelerator": "GPU",
    "colab": {
      "provenance": [],
      "include_colab_link": true
    },
    "gpuClass": "standard",
    "kernelspec": {
      "display_name": "Python 3",
      "name": "python3"
    },
    "language_info": {
      "name": "python"
    }
  },
  "nbformat": 4,
  "nbformat_minor": 0
}